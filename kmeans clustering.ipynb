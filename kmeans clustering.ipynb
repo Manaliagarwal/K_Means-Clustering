{
 "cells": [
  {
   "cell_type": "code",
   "execution_count": 21,
   "metadata": {},
   "outputs": [],
   "source": [
    "#importing libraries\n",
    "\n",
    "from numpy import array\n",
    "import numpy as np\n",
    "import matplotlib.pyplot as plt\n",
    "\n",
    "from matplotlib import style\n",
    "style.use(\"ggplot\")\n",
    "from sklearn.cluster import KMeans"
   ]
  },
  {
   "cell_type": "code",
   "execution_count": 22,
   "metadata": {},
   "outputs": [
    {
     "data": {
      "image/png": "[encoded data removed]",
      "text/plain": [
       "<Figure size 432x288 with 1 Axes>"
      ]
     },
     "metadata": {},
     "output_type": "display_data"
    }
   ],
   "source": [
    "#plotting and visualizing are data before feeding it into the machine learning algo\n",
    "\n",
    "x=[1,5,1.5,8,1,9]\n",
    "y=[2,8,1.8,8,0.6,11]\n",
    "plt.scatter(x,y)\n",
    "plt.show()"
   ]
  },
  {
   "cell_type": "code",
   "execution_count": 29,
   "metadata": {},
   "outputs": [
    {
     "name": "stdout",
     "output_type": "stream",
     "text": [
      "[[7.33333333]\n",
      " [1.16666667]]\n",
      "[1 0 1 0 1 0]\n"
     ]
    }
   ],
   "source": [
    "#converting our data to numpy array\n",
    "x=array([[1],[5],[1.5],[8],[1],[9]])\n",
    "\n",
    "#we initialize k-means algo with the require parameter and we use .fit() to fit the data\n",
    "kmeans=KMeans(n_clusters=2)\n",
    "kmeans.fit(x)\n",
    "\n",
    "#getting the values of centroids and labels based on the fitment\n",
    "\n",
    "centroids=kmeans.cluster_centers_\n",
    "labels=kmeans.labels_\n",
    "print(centroids)\n",
    "print(labels)"
   ]
  },
  {
   "cell_type": "code",
   "execution_count": 37,
   "metadata": {},
   "outputs": [
    {
     "name": "stdout",
     "output_type": "stream",
     "text": [
      "coordinate: [1.] label: 1\n",
      "coordinate: [5.] label: 0\n",
      "coordinate: [1.5] label: 1\n",
      "coordinate: [8.] label: 0\n",
      "coordinate: [1.] label: 1\n",
      "coordinate: [9.] label: 0\n"
     ]
    },
    {
     "data": {
      "image/png": "[encoded data removed]",
      "text/plain": [
       "<Figure size 432x288 with 1 Axes>"
      ]
     },
     "metadata": {},
     "output_type": "display_data"
    }
   ],
   "source": [
    "#plotting and visualizing output\n",
    "\n",
    "colors=[\"g.\",\"r.\",\"c.\",\"y.\"]\n",
    "for i in range(len(x)):\n",
    "    print(\"coordinate:\",x[i],\"label:\",labels[i])\n",
    "plt.plot(x[i][0],x[i][0],colors[labels[i]],markersize=10)\n",
    "plt.scatter(centroids[:,0],centroids[:,0],marker=\"x\",s=150,linewidths=5,zorder=10)\n",
    "plt.show()"
   ]
  },
  {
   "cell_type": "code",
   "execution_count": null,
   "metadata": {},
   "outputs": [],
   "source": []
  }
 ],
 "metadata": {
  "kernelspec": {
   "display_name": "Python 3",
   "language": "python",
   "name": "python3"
  },
  "language_info": {
   "codemirror_mode": {
    "name": "ipython",
    "version": 3
   },
   "file_extension": ".py",
   "mimetype": "text/x-python",
   "name": "python",
   "nbconvert_exporter": "python",
   "pygments_lexer": "ipython3",
   "version": "3.7.3"
  }
 },
 "nbformat": 4,
 "nbformat_minor": 2
}
